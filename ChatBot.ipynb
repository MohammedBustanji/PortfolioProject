{
 "cells": [
  {
   "cell_type": "markdown",
   "id": "486cdb2a",
   "metadata": {},
   "source": [
    "## Introduction about Chronic Kidney Disease chatbot\n",
    "\n",
    "<p><img src=\"https://getanimated.uk.com/wp-content/uploads/2021/07/shutterstock_734436697-e1510716853185.jpg\" alt=\"Doctor chatbot\"></p>\n",
    "\n",
    "<p>Welcome to the Chronic Kidney Disease Chatbot, your reliable source of information and support for understanding and managing this complex condition. Whether you have been diagnosed with CKD, suspect you may be at risk, or simply want to learn more about this condition, our chatbot is here to provide you with valuable insights, guidance, and resources. Living with chronic kidney disease can be challenging, as it involves the gradual loss of kidney function over time. It is essential to understand the causes, symptoms, and available treatment options to effectively manage the disease and maintain your overall health and well-being. Our chatbot is designed to offer you comprehensive information about CKD, including its stages, risk factors, common complications, and the latest advancements in treatment. We understand that navigating the world of chronic kidney disease can be overwhelming, but you are not alone. Our chatbot is programmed to provide compassionate support, answer your questions, and address your concerns. Please remember that while our chatbot can provide valuable information, it is not a substitute for professional medical advice. We strongly recommend consulting with a healthcare professional for personalized guidance based on your unique circumstances. Together, let us embark on a journey of understanding, support, and empowerment as we explore the world of chronic kidney disease. Your health and well-being are our utmost priority, and we are committed to providing you with accurate information and guidance throughout your CKD journey.</p>"
   ]
  },
  {
   "cell_type": "markdown",
   "id": "a0383afa",
   "metadata": {},
   "source": [
    "## 1. Importing Libraries"
   ]
  },
  {
   "cell_type": "code",
   "execution_count": 2,
   "id": "1da52822",
   "metadata": {},
   "outputs": [],
   "source": [
    "from newspaper import Article\n",
    "import random\n",
    "import string\n",
    "import nltk\n",
    "from sklearn.feature_extraction.text import CountVectorizer\n",
    "from sklearn.metrics.pairwise import cosine_similarity\n",
    "import numpy as np\n",
    "import warnings\n",
    "warnings.filterwarnings('ignore')"
   ]
  },
  {
   "cell_type": "markdown",
   "id": "f35ebc6e",
   "metadata": {},
   "source": [
    "## 2. Get Article "
   ]
  },
  {
   "cell_type": "code",
   "execution_count": 22,
   "id": "31a67ca7",
   "metadata": {},
   "outputs": [],
   "source": [
    "article = Article('https://www.nhs.uk/conditions/kidney-disease/')\n",
    "article.download()\n",
    "article.parse()\n",
    "article.nlp()\n",
    "corpus = article.text\n"
   ]
  },
  {
   "cell_type": "markdown",
   "id": "ee2681cc",
   "metadata": {},
   "source": [
    "## 3. print the articles text"
   ]
  },
  {
   "cell_type": "code",
   "execution_count": 23,
   "id": "a94c9895",
   "metadata": {
    "scrolled": true
   },
   "outputs": [
    {
     "name": "stdout",
     "output_type": "stream",
     "text": [
      "Chronic kidney disease (CKD) is a long-term condition where the kidneys do not work as well as they should. It's a common condition often associated with getting older. It can affect anyone, but it's more common in people who are black or of south Asian origin. CKD can get worse over time and eventually the kidneys may stop working altogether, but this is uncommon. Many people with CKD are able to live long lives with the condition.\n",
      "\n",
      "Symptoms of CKD There are usually no symptoms of kidney disease in the early stages. It may only be diagnosed if you have a blood or urine test for another reason and the results show a possible problem with your kidneys. At a more advanced stage, symptoms can include: tiredness\n",
      "\n",
      "swollen ankles, feet or hands\n",
      "\n",
      "shortness of breath\n",
      "\n",
      "feeling sick\n",
      "\n",
      "blood in your pee (urine) See a GP if you have persistent or worrying symptoms that you think could be caused by kidney disease. Find out more about the symptoms of CKD.\n",
      "\n",
      "Causes of CKD Chronic kidney disease is usually caused by other conditions that put a strain on the kidneys. Often it's the result of a combination of different problems. CKD can be caused by: high blood pressure – over time, this can put strain on the small blood vessels in the kidneys and stop the kidneys working properly\n",
      "\n",
      "diabetes – too much glucose in your blood can damage the tiny filters in the kidneys\n",
      "\n",
      "high cholesterol – this can cause a build-up of fatty deposits in the blood vessels supplying your kidneys, which can make it harder for them to work properly\n",
      "\n",
      "kidney infections\n",
      "\n",
      "glomerulonephritis – kidney inflammation\n",
      "\n",
      "autosomal dominant polycystic kidney disease – an inherited condition where growths called cysts develop in the kidneys\n",
      "\n",
      "blockages in the flow of urine – for example, from kidney stones that keep coming back, or an enlarged prostate\n",
      "\n",
      "long-term, regular use of certain medicines – such as lithium and non-steroidal anti-inflammatory drugs (NSAIDs) You can help prevent CKD by making healthy lifestyle changes and ensuring any underlying conditions you have are well controlled.\n",
      "\n",
      "Tests for CKD CKD can be diagnosed using blood and urine tests. These tests look for high levels of certain substances in your blood and urine that are signs your kidneys are not working properly. If you're at a high risk of developing kidney disease (for example, you have a known risk factor such as high blood pressure or diabetes), you may be advised to have regular tests to check for CKD so it's found at an early stage. The results of your blood and urine tests can be used to tell the stage of your kidney disease. This is a number that reflects how severe the damage to your kidneys is, with a higher number indicating more serious CKD. Find out more about how CKD is diagnosed.\n",
      "\n",
      "Treatments for CKD There's no cure for CKD, but treatment can help relieve the symptoms and stop it getting worse. Your treatment will depend on how severe your condition is. The main treatments are: lifestyle changes to help you remain as healthy as possible\n",
      "\n",
      "medicine to control associated problems such as high blood pressure and high cholesterol\n",
      "\n",
      "dialysis – treatment to replicate some of the kidney's functions; this may be necessary in advanced CKD\n",
      "\n",
      "kidney transplant – this may also be necessary in advanced CKD You'll also be advised to have regular check-ups to monitor your condition. Find out more about how CKD is treated and living with CKD.\n"
     ]
    }
   ],
   "source": [
    "print(corpus)"
   ]
  },
  {
   "cell_type": "markdown",
   "id": "2ba2fd3f",
   "metadata": {},
   "source": [
    "## 4. Tekonization"
   ]
  },
  {
   "cell_type": "code",
   "execution_count": 6,
   "id": "ca5dde41",
   "metadata": {},
   "outputs": [],
   "source": [
    "text = corpus\n",
    "sentence_list = nltk.sent_tokenize(text)"
   ]
  },
  {
   "cell_type": "code",
   "execution_count": 7,
   "id": "b2bf3f4f",
   "metadata": {
    "scrolled": true
   },
   "outputs": [
    {
     "name": "stdout",
     "output_type": "stream",
     "text": [
      "['Chronic kidney disease (CKD) is a long-term condition where the kidneys do not work as well as they should.', \"It's a common condition often associated with getting older.\", \"It can affect anyone, but it's more common in people who are black or of south Asian origin.\", 'CKD can get worse over time and eventually the kidneys may stop working altogether, but this is uncommon.', 'Many people with CKD are able to live long lives with the condition.', 'Symptoms of CKD There are usually no symptoms of kidney disease in the early stages.', 'It may only be diagnosed if you have a blood or urine test for another reason and the results show a possible problem with your kidneys.', 'At a more advanced stage, symptoms can include: tiredness\\n\\nswollen ankles, feet or hands\\n\\nshortness of breath\\n\\nfeeling sick\\n\\nblood in your pee (urine) See a GP if you have persistent or worrying symptoms that you think could be caused by kidney disease.', 'Find out more about the symptoms of CKD.', 'Causes of CKD Chronic kidney disease is usually caused by other conditions that put a strain on the kidneys.', \"Often it's the result of a combination of different problems.\", 'CKD can be caused by: high blood pressure – over time, this can put strain on the small blood vessels in the kidneys and stop the kidneys working properly\\n\\ndiabetes – too much glucose in your blood can damage the tiny filters in the kidneys\\n\\nhigh cholesterol – this can cause a build-up of fatty deposits in the blood vessels supplying your kidneys, which can make it harder for them to work properly\\n\\nkidney infections\\n\\nglomerulonephritis – kidney inflammation\\n\\nautosomal dominant polycystic kidney disease – an inherited condition where growths called cysts develop in the kidneys\\n\\nblockages in the flow of urine – for example, from kidney stones that keep coming back, or an enlarged prostate\\n\\nlong-term, regular use of certain medicines – such as lithium and non-steroidal anti-inflammatory drugs (NSAIDs) You can help prevent CKD by making healthy lifestyle changes and ensuring any underlying conditions you have are well controlled.', 'Tests for CKD CKD can be diagnosed using blood and urine tests.', 'These tests look for high levels of certain substances in your blood and urine that are signs your kidneys are not working properly.', \"If you're at a high risk of developing kidney disease (for example, you have a known risk factor such as high blood pressure or diabetes), you may be advised to have regular tests to check for CKD so it's found at an early stage.\", 'The results of your blood and urine tests can be used to tell the stage of your kidney disease.', 'This is a number that reflects how severe the damage to your kidneys is, with a higher number indicating more serious CKD.', 'Find out more about how CKD is diagnosed.', \"Treatments for CKD There's no cure for CKD, but treatment can help relieve the symptoms and stop it getting worse.\", 'Your treatment will depend on how severe your condition is.', \"The main treatments are: lifestyle changes to help you remain as healthy as possible\\n\\nmedicine to control associated problems such as high blood pressure and high cholesterol\\n\\ndialysis – treatment to replicate some of the kidney's functions; this may be necessary in advanced CKD\\n\\nkidney transplant – this may also be necessary in advanced CKD You'll also be advised to have regular check-ups to monitor your condition.\", 'Find out more about how CKD is treated and living with CKD.']\n"
     ]
    }
   ],
   "source": [
    "print(sentence_list)"
   ]
  },
  {
   "cell_type": "markdown",
   "id": "79a0b0ee",
   "metadata": {},
   "source": [
    "## 5. greeting response for a user greeting"
   ]
  },
  {
   "cell_type": "code",
   "execution_count": 8,
   "id": "e5688f5f",
   "metadata": {},
   "outputs": [],
   "source": [
    "def greeting_response(text):\n",
    "    text = text.lower()\n",
    "    \n",
    "    bot_greetings = ['howdy','hi','hey','hello','hola']\n",
    "    user_greetings = ['hi','hey','hello','hola','greetings','wassup']\n",
    "    \n",
    "    for word in text.split():\n",
    "        if word in user_greetings:\n",
    "            return random.choice(bot_greetings)"
   ]
  },
  {
   "cell_type": "code",
   "execution_count": 9,
   "id": "a5b8aeec",
   "metadata": {},
   "outputs": [],
   "source": [
    "def index_sort(list_var):\n",
    "    length = len(list_var)\n",
    "    list_index = list(range(0, length))\n",
    "    \n",
    "    x = list_var\n",
    "    for i in range(length):\n",
    "        for j in range(length):\n",
    "            if x[list_index[i]] > x[list_index[j]]:\n",
    "                temp = list_index[i]\n",
    "                list_index[i]= list_index[j]\n",
    "                list_index[j] = temp\n",
    "    return list_index       "
   ]
  },
  {
   "cell_type": "markdown",
   "id": "0f972526",
   "metadata": {},
   "source": [
    "## 6. Create bot response"
   ]
  },
  {
   "cell_type": "code",
   "execution_count": 10,
   "id": "c914eb6b",
   "metadata": {},
   "outputs": [],
   "source": [
    "def bot_response(user_input):\n",
    "    user_input = user_input.lower()\n",
    "    sentence_list.append(user_input)\n",
    "    bot_response = ''\n",
    "    cm = CountVectorizer().fit_transform(sentence_list)\n",
    "    similarity_scores = cosine_similarity(cm[-1], cm)\n",
    "    similarity_scores_list = similarity_scores.flatten()\n",
    "    index = index_sort(similarity_scores_list)\n",
    "    index = index[1:]\n",
    "    response_flag = 0\n",
    "    \n",
    "    j = 0\n",
    "    for i in range(len(index)):\n",
    "        if similarity_scores_list[index[i]] > 0.0: \n",
    "            bot_response = bot_response+' '+sentence_list[index[i]]\n",
    "            response_flag = 1\n",
    "            j=j+1\n",
    "        if j > 2:\n",
    "            break\n",
    "            \n",
    "    if response_flag ==0:\n",
    "        bot_response = bot_response+' '+\"I apologize, I don't understand.\"\n",
    "    sentence_list.remove(user_input)\n",
    "    return bot_response"
   ]
  },
  {
   "cell_type": "markdown",
   "id": "70dbc333",
   "metadata": {},
   "source": [
    "## 7. Start chat"
   ]
  },
  {
   "cell_type": "code",
   "execution_count": 24,
   "id": "f6a36257",
   "metadata": {},
   "outputs": [
    {
     "name": "stdout",
     "output_type": "stream",
     "text": [
      "Doc Bot: I am Doctor Bot or Doc Bot for short. I will answer your queries about Chronic Kidney Disease. If you want to exit, type bye. \n",
      "what is chronic kidney disease?\n",
      "Doc Bot:  Causes of CKD Chronic kidney disease is usually caused by other conditions that put a strain on the kidneys. Chronic kidney disease (CKD) is a long-term condition where the kidneys do not work as well as they should. Symptoms of CKD There are usually no symptoms of kidney disease in the early stages.\n",
      "askljdlkasjd\n",
      "Doc Bot:  I apologize, I don't understand.\n",
      "symptoms\n",
      "Doc Bot:  Symptoms of CKD There are usually no symptoms of kidney disease in the early stages. Find out more about the symptoms of CKD. At a more advanced stage, symptoms can include: tiredness\n",
      "\n",
      "swollen ankles, feet or hands\n",
      "\n",
      "shortness of breath\n",
      "\n",
      "feeling sick\n",
      "\n",
      "blood in your pee (urine) See a GP if you have persistent or worrying symptoms that you think could be caused by kidney disease.\n",
      "bye\n",
      "Doc Bot: Chat with you later !\n"
     ]
    }
   ],
   "source": [
    "print(\"Doc Bot: I am Doctor Bot or Doc Bot for short. I will answer your queries about Chronic Kidney Disease. If you want to exit, type bye. \")\n",
    "\n",
    "exit_list = ['exit', 'see you later', 'bye', 'quit', 'break']\n",
    "\n",
    "while(True):\n",
    "    user_input = input()\n",
    "    if user_input.lower() in exit_list:\n",
    "        print('Doc Bot: Chat with you later !')\n",
    "        break\n",
    "    else:\n",
    "        if greeting_response(user_input) != None:\n",
    "            print('Doc Bot: '+greeting_response(user_input))\n",
    "        else:\n",
    "            print('Doc Bot: '+bot_response(user_input))"
   ]
  }
 ],
 "metadata": {
  "kernelspec": {
   "display_name": "Python 3 (ipykernel)",
   "language": "python",
   "name": "python3"
  },
  "language_info": {
   "codemirror_mode": {
    "name": "ipython",
    "version": 3
   },
   "file_extension": ".py",
   "mimetype": "text/x-python",
   "name": "python",
   "nbconvert_exporter": "python",
   "pygments_lexer": "ipython3",
   "version": "3.9.13"
  }
 },
 "nbformat": 4,
 "nbformat_minor": 5
}
